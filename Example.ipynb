{
 "cells": [
  {
   "cell_type": "code",
   "execution_count": 2,
   "metadata": {},
   "outputs": [],
   "source": [
    "from pymatgen import MPRester\n",
    "import numpy as np\n",
    "import itertools\n",
    "import time\n",
    "from itertools import chain, combinations\n",
    "import matplotlib.pyplot as plt\n",
    "import itertools"
   ]
  },
  {
   "cell_type": "code",
   "execution_count": 3,
   "metadata": {},
   "outputs": [],
   "source": [
    "from routines import *"
   ]
  },
  {
   "cell_type": "code",
   "execution_count": 4,
   "metadata": {},
   "outputs": [],
   "source": [
    "%load_ext autoreload"
   ]
  },
  {
   "cell_type": "code",
   "execution_count": 5,
   "metadata": {},
   "outputs": [],
   "source": [
    "%autoreload 2"
   ]
  },
  {
   "cell_type": "code",
   "execution_count": 6,
   "metadata": {},
   "outputs": [],
   "source": [
    "# Insert your Materials Project token. Neede to communicate with the database\n",
    "token= **** \n",
    "\n",
    "mpr=MPRester(token)"
   ]
  },
  {
   "cell_type": "markdown",
   "metadata": {},
   "source": [
    "# EXAMPLE: LLZO ELECTROCHEMICAL STABILITY COMPUTATION"
   ]
  },
  {
   "cell_type": "code",
   "execution_count": null,
   "metadata": {
    "scrolled": true
   },
   "outputs": [],
   "source": [
    "oxidations, reductions = \\\n",
    "            stability_window({'Li': 7.0, 'La': 3.0, 'Zr': 2.0, 'O': 12.0}, mpr, verbosity=False, icsd=True,\n",
    "                             remove_non_comp_ox = 0  )"
   ]
  },
  {
   "cell_type": "markdown",
   "metadata": {},
   "source": [
    "### Visualization of LLZO results"
   ]
  },
  {
   "cell_type": "code",
   "execution_count": 12,
   "metadata": {},
   "outputs": [
    {
     "name": "stdout",
     "output_type": "stream",
     "text": [
      "OXIDATIONS \n",
      "\n"
     ]
    },
    {
     "data": {
      "text/plain": [
       "[(2.9905899111607175,\n",
       "  0.27490502801509004,\n",
       "  [{'O': 2.0}, {'O': 3.0, 'La': 2.0}, {'Zr': 1.0, 'O': 2.0}, {'Li': 1.0}],\n",
       "  array([1.75, 1.5 , 2.  , 7.  ])),\n",
       " (3.0460159157142845,\n",
       "  0.367904687011751,\n",
       "  [{'Li': 1.0, 'O': 2.0},\n",
       "   {'O': 3.0, 'La': 2.0},\n",
       "   {'Zr': 1.0, 'O': 2.0},\n",
       "   {'Li': 1.0}],\n",
       "  array([1.75, 1.5 , 2.  , 5.25])),\n",
       " (3.082710716142861,\n",
       "  0.33055769475915037,\n",
       "  [{'Li': 1.0, 'O': 3.0},\n",
       "   {'O': 3.0, 'La': 2.0},\n",
       "   {'Zr': 1.0, 'O': 2.0},\n",
       "   {'Li': 1.0}],\n",
       "  array([1.16666667, 1.5       , 2.        , 5.83333333])),\n",
       " (3.2377073318750087,\n",
       "  0.4988410543932982,\n",
       "  [{'O': 2.0},\n",
       "   {'Zr': 1.0, 'O': 2.0},\n",
       "   {'Li': 1.0, 'La': 1.0, 'O': 2.0},\n",
       "   {'Li': 1.0}],\n",
       "  array([1., 2., 3., 4.])),\n",
       " (3.276486666517858,\n",
       "  0.28444448812196627,\n",
       "  [{'O': 2.0},\n",
       "   {'O': 3.0, 'La': 2.0},\n",
       "   {'La': 2.0, 'Zr': 2.0, 'O': 7.0},\n",
       "   {'Li': 1.0}],\n",
       "  array([1.75, 0.5 , 1.  , 7.  ])),\n",
       " (3.3126750414285766,\n",
       "  0.2766581692195126,\n",
       "  [{'O': 2.0}, {'La': 1.0, 'O': 2.0}, {'Zr': 1.0, 'O': 2.0}, {'Li': 1.0}],\n",
       "  array([1., 3., 2., 7.])),\n",
       " (3.3790511081250054,\n",
       "  0.33276620062238466,\n",
       "  [{'O': 2.0},\n",
       "   {'Li': 1.0, 'La': 1.0, 'O': 2.0},\n",
       "   {'La': 2.0, 'Zr': 2.0, 'O': 7.0},\n",
       "   {'Li': 1.0}],\n",
       "  array([1.5, 1. , 1. , 6. ])),\n",
       " (3.3838483766071477,\n",
       "  0.28443001054360656,\n",
       "  [{'O': 2.0},\n",
       "   {'La': 1.0, 'O': 2.0},\n",
       "   {'La': 2.0, 'Zr': 2.0, 'O': 7.0},\n",
       "   {'Li': 1.0}],\n",
       "  array([1.5, 1. , 1. , 7. ])),\n",
       " (3.3940688987500005,\n",
       "  0.3230620815271521,\n",
       "  [{'Li': 1.0, 'O': 2.0},\n",
       "   {'La': 1.0, 'O': 2.0},\n",
       "   {'Zr': 1.0, 'O': 2.0},\n",
       "   {'Li': 1.0}],\n",
       "  array([1., 3., 2., 6.])),\n",
       " (3.3950633735526345,\n",
       "  0.30592173521056526,\n",
       "  [{'Li': 1.0, 'O': 3.0},\n",
       "   {'La': 1.0, 'O': 2.0},\n",
       "   {'Zr': 1.0, 'O': 2.0},\n",
       "   {'Li': 1.0}],\n",
       "  array([0.66666667, 3.        , 2.        , 6.33333333]))]"
      ]
     },
     "execution_count": 12,
     "metadata": {},
     "output_type": "execute_result"
    }
   ],
   "source": [
    "# OXIDATION: \n",
    "#\n",
    "# Reults here contains for each oxidation reaction \n",
    "# a tuple of the form (potential,error_on_potential, products, stoichio_coeff) \n",
    "#\n",
    "# They are listed in increasing order so that the limit oxidation reaction is the first one\n",
    "\n",
    "# if errore = True potentials with error larger than 0.5 eV are neglected\n",
    "\n",
    "errore=True\n",
    "error_cutoff=0.5\n",
    "\n",
    "if (errore):\n",
    "\n",
    "    results = [ (pot,err, [prod_['formula'] for prod_ in prod],coeff) \n",
    "             for pot, err, prod, coeff in \n",
    "               sorted(zip(oxidations['pot'],oxidations['error'],oxidations['products'],oxidations['coeffs']), \n",
    "                                          key=lambda pair: pair[0]) if  err< error_cutoff ]# np.abs(err/pot)<2.0 ]\n",
    "else:\n",
    "    results = [ (pot,err, [prod_['formula'] for prod_ in prod],coeff) \n",
    "             for pot, err, prod, coeff in \n",
    "               sorted(zip(oxidations['pot'],oxidations['error'],oxidations['products'],oxidations['coeffs']), \n",
    "                                          key=lambda pair: pair[0]) ]\n",
    "\n",
    "print('POSSIBLE OXIDATION REACTIONS \\n')\n",
    "results[0:10]"
   ]
  },
  {
   "cell_type": "code",
   "execution_count": 15,
   "metadata": {},
   "outputs": [
    {
     "name": "stdout",
     "output_type": "stream",
     "text": [
      "POSSIBLE REDUCTION REACTIONS \n",
      "\n"
     ]
    },
    {
     "data": {
      "text/plain": [
       "[(-0.3397470567218148,\n",
       "  0.2615934756743069,\n",
       "  [{'Zr': 1.0},\n",
       "   {'Li': 2.0, 'O': 1.0},\n",
       "   {'Li': 1.0, 'La': 1.0, 'O': 2.0},\n",
       "   {'Li': 1.0}],\n",
       "  array([ 2.,  6.,  3., -8.])),\n",
       " (-0.38465267627739474,\n",
       "  0.141987838781699,\n",
       "  [{'La': 1.0}, {'Zr': 1.0}, {'Li': 2.0, 'O': 1.0}, {'Li': 1.0}],\n",
       "  array([  3.,   2.,  12., -17.])),\n",
       " (-0.3849690624019644,\n",
       "  0.23541264049542193,\n",
       "  [{'La': 1.0},\n",
       "   {'Li': 2.0, 'O': 1.0},\n",
       "   {'Li': 6.0, 'O': 7.0, 'Zr': 2.0},\n",
       "   {'Li': 1.0}],\n",
       "  array([ 3.,  5.,  1., -9.])),\n",
       " (-0.3926696674387271,\n",
       "  0.2637978925337374,\n",
       "  [{'Zr': 1.0}, {'Li': 2.0, 'O': 1.0}, {'O': 3.0, 'La': 2.0}, {'Li': 1.0}],\n",
       "  array([ 2. ,  7.5,  1.5, -8. ])),\n",
       " (-0.4017699152696126,\n",
       "  0.3418143599891333,\n",
       "  [{'Li': 2.0, 'O': 1.0},\n",
       "   {'Zr': 2.0, 'O': 1.0},\n",
       "   {'Li': 1.0, 'La': 1.0, 'O': 2.0},\n",
       "   {'Li': 1.0}],\n",
       "  array([ 5.,  1.,  3., -6.])),\n",
       " (-0.4154492356372559,\n",
       "  0.15509092191013887,\n",
       "  [{'La': 1.0}, {'Li': 2.0, 'O': 1.0}, {'Zr': 2.0, 'O': 1.0}, {'Li': 1.0}],\n",
       "  array([  3.,  11.,   1., -15.])),\n",
       " (-0.47233339622549075,\n",
       "  0.34251053978619567,\n",
       "  [{'Li': 2.0, 'O': 1.0},\n",
       "   {'O': 3.0, 'La': 2.0},\n",
       "   {'Zr': 2.0, 'O': 1.0},\n",
       "   {'Li': 1.0}],\n",
       "  array([ 6.5,  1.5,  1. , -6. ])),\n",
       " (-0.47267793671568836,\n",
       "  0.23369676244221071,\n",
       "  [{'La': 1.0},\n",
       "   {'Li': 2.0, 'O': 1.0},\n",
       "   {'Li': 2.0, 'O': 3.0, 'Zr': 1.0},\n",
       "   {'Li': 1.0}],\n",
       "  array([ 3.,  6.,  2., -9.])),\n",
       " (-0.5903507127488719,\n",
       "  0.1728064401176442,\n",
       "  [{'La': 1.0}, {'Li': 2.0, 'O': 1.0}, {'O': 1.0, 'Zr': 1.0}, {'Li': 1.0}],\n",
       "  array([  3.,  10.,   2., -13.])),\n",
       " (-0.7435617945098048,\n",
       "  0.23635183143832145,\n",
       "  [{'La': 1.0}, {'Li': 2.0, 'O': 1.0}, {'Zr': 1.0, 'O': 2.0}, {'Li': 1.0}],\n",
       "  array([ 3.,  8.,  2., -9.]))]"
      ]
     },
     "execution_count": 15,
     "metadata": {},
     "output_type": "execute_result"
    }
   ],
   "source": [
    "# REDUCTIONS: \n",
    "#\n",
    "# Reults here contains for each reduction reaction \n",
    "# a tuple of the form (potential,error_on_potential, products, stoichio_coeff) \n",
    "#\n",
    "# They are listed in decreasing order so that the limit reduction reaction is the first one\n",
    "\n",
    "# if errore = True potentials with error larger than 0.5 eV are neglected\n",
    "\n",
    "\n",
    "error=True\n",
    "error_cutoff=0.5\n",
    "\n",
    "if (error):\n",
    "\n",
    "    results = [ (pot,err, [prod_['formula'] for prod_ in prod],coeff) \n",
    "         for pot, err, prod, coeff in \n",
    "           sorted(zip(reductions['pot'],reductions['error'],reductions['products'],reductions['coeffs']), \n",
    "                                      reverse=True,key=lambda pair: pair[0]) if err < error_cutoff ] #np.abs(err/pot)< 1.0 ]\n",
    "else:\n",
    "    \n",
    "    results = [ (pot,err, [prod_['formula'] for prod_ in prod],coeff) \n",
    "         for pot, err, prod, coeff in \n",
    "           sorted(zip(reductions['pot'],reductions['error'],reductions['products'],reductions['coeffs']), \n",
    "                                      reverse=True,key=lambda pair: pair[0]) ]\n",
    "    \n",
    "print('POSSIBLE REDUCTION REACTIONS \\n')\n",
    "results[0:10]"
   ]
  },
  {
   "cell_type": "code",
   "execution_count": 17,
   "metadata": {},
   "outputs": [
    {
     "data": {
      "text/plain": [
       "<ErrorbarContainer object of 3 artists>"
      ]
     },
     "execution_count": 17,
     "metadata": {},
     "output_type": "execute_result"
    },
    {
     "data": {
      "image/png": "[encoded data removed]",
      "text/plain": [
       "<Figure size 432x288 with 1 Axes>"
      ]
     },
     "metadata": {
      "needs_background": "light"
     },
     "output_type": "display_data"
    }
   ],
   "source": [
    "# OXIDATIONS\n",
    "#\n",
    "# We plot here as a function of the error cutoff the potential of the minimum oxidation potential found.\n",
    "# For each error cutoff, potentials with error larger than error_cutoff are neglected\n",
    "# Such analyisis can help to investigate the error on the final result\n",
    "#\n",
    "\n",
    "minimum=[]\n",
    "minimum_error=[]\n",
    "chosen= [0.5,0.75,1.0,1.25,1.5]\n",
    "for error_ in chosen:\n",
    "    error=True\n",
    "\n",
    "    if (error):\n",
    "\n",
    "        results = [ (pot,err, [prod_['formula'] for prod_ in prod],coeff) \n",
    "             for pot, err, prod, coeff in \n",
    "               sorted(zip(oxidations['pot'],oxidations['error'],oxidations['products'],oxidations['coeffs']), \n",
    "                                          reverse=False, key=lambda pair: pair[0]) if err < error_ ] #np.abs(err/pot)< 1.0 ]\n",
    "    else:\n",
    "\n",
    "        results = [ (pot,err, [prod_['formula'] for prod_ in prod],coeff) \n",
    "             for pot, err, prod, coeff in \n",
    "               sorted(zip(oxidations['pot'],oxidations['error'],oxidations['products'],oxidations['coeffs']), \n",
    "                                          reverse=False, key=lambda pair: pair[0]) ]\n",
    "        \n",
    "    minimum.append(results[0][0])\n",
    "    minimum_error.append(results[0][1])\n",
    "    \n",
    "plt.ylabel('Potential - oxidation')\n",
    "plt.xlabel('Error-cutoff')\n",
    "\n",
    "plt.plot(chosen,minimum)\n",
    "plt.errorbar(chosen,minimum,yerr=minimum_error)"
   ]
  },
  {
   "cell_type": "code",
   "execution_count": 80,
   "metadata": {},
   "outputs": [
    {
     "data": {
      "text/plain": [
       "<ErrorbarContainer object of 3 artists>"
      ]
     },
     "execution_count": 80,
     "metadata": {},
     "output_type": "execute_result"
    },
    {
     "data": {
      "image/png": "[encoded data removed]",
      "text/plain": [
       "<Figure size 432x288 with 1 Axes>"
      ]
     },
     "metadata": {
      "needs_background": "light"
     },
     "output_type": "display_data"
    }
   ],
   "source": [
    "# REDUCTIONS\n",
    "#\n",
    "# We plot here as a function of the error cutoff the potential of the minimum oxidation potential found.\n",
    "# For each error cutoff, potentials with error larger than error_cutoff are neglected\n",
    "# Such analyisis can help to investigate the error on the final result\n",
    "#\n",
    "\n",
    "minimum=[]\n",
    "minimum_error=[]\n",
    "chosen= [0.25,0.5,0.75,1.0,1.25,1.5,2.0,3.0,4.0]\n",
    "for error_ in chosen:\n",
    "    error=True\n",
    "\n",
    "    if (error):\n",
    "\n",
    "        results = [ (pot,err, [prod_['formula'] for prod_ in prod],coeff) \n",
    "             for pot, err, prod, coeff in \n",
    "               sorted(zip(reductions['pot'],reductions['error'],reductions['products'],reductions['coeffs']), \n",
    "                                          reverse=True,key=lambda pair: pair[0]) if err < error_ ] #np.abs(err/pot)< 1.0 ]\n",
    "    else:\n",
    "\n",
    "        results = [ (pot,err, [prod_['formula'] for prod_ in prod],coeff) \n",
    "             for pot, err, prod, coeff in \n",
    "               sorted(zip(reductions['pot'],reductions['error'],reductions['products'],reductions['coeffs']), \n",
    "                                          reverse=True,key=lambda pair: pair[0]) ]\n",
    "        \n",
    "    minimum.append(results[0][0])\n",
    "    minimum_error.append(results[0][1])\n",
    "    \n",
    "plt.ylabel('Potential - reduction')\n",
    "plt.xlabel('Error-cutoff')\n",
    "\n",
    "plt.plot(chosen,minimum)\n",
    "plt.errorbar(chosen,minimum,yerr=minimum_error)"
   ]
  },
  {
   "cell_type": "markdown",
   "metadata": {},
   "source": [
    "# INSPECT SELECTED INSTABILITY REACTIONS"
   ]
  },
  {
   "cell_type": "code",
   "execution_count": 10,
   "metadata": {},
   "outputs": [
    {
     "name": "stdout",
     "output_type": "stream",
     "text": [
      "download_and_filter_formula\n",
      "{'Li': 7.0, 'La': 3.0, 'Zr': 2.0, 'O': 12.0}\n",
      "Elapsed time for downloading:  1.4825401306152344\n",
      "filter_compounds_formula\n",
      "{'Li': 7.0, 'La': 3.0, 'Zr': 2.0, 'O': 12.0}\n",
      "96 0\n",
      "0 -7.139211504375001 -7.139211504375001 96\n",
      "0\n",
      "End filter compounds formula---- \n",
      "\n",
      " End download and filter formula---- \n",
      "\n",
      "download_and_filter_formula\n",
      "{'Li': 2.0, 'O': 1.0}\n",
      "Elapsed time for downloading:  1.486400842666626\n",
      "filter_compounds_formula\n",
      "{'Li': 2.0, 'O': 1.0}\n",
      "102 5\n",
      "0 -4.590261840392157 -4.590261840392157 102\n",
      "1 -4.669131471666667 -4.669131471666667 12\n",
      "2 -4.602423630686275 -4.602423630686275 102\n",
      "3 -4.593584400392157 -4.593584400392157 102\n",
      "4 -4.754507463333334 -4.754507463333334 3\n",
      "5 -4.578540282156863 -4.578540282156863 102\n",
      "3\n",
      "End filter compounds formula---- \n",
      "\n",
      "{'La': 1.0}\n",
      "Elapsed time for downloading:  0.6051418781280518\n",
      "filter_compounds_formula\n",
      "{'La': 1.0}\n",
      "4 1\n",
      "0 -4.80448641 -4.80448641 1\n",
      "1 -4.9265915325 -4.9265915325 4\n",
      "2 -4.92327123 -4.92327123 1\n",
      "1\n",
      "End filter compounds formula---- \n",
      "\n",
      "{'Li': 6, 'O': 7, 'Zr': 2}\n",
      "Elapsed time for downloading:  1.0491440296173096\n",
      "filter_compounds_formula\n",
      "{'Li': 6.0, 'O': 7.0, 'Zr': 2.0}\n",
      "30 0\n",
      "0 -6.756484832666667 -6.756484832666667 30\n",
      "0\n",
      "End filter compounds formula---- \n",
      "\n",
      "{'Li': 1}\n",
      "Elapsed time for downloading:  1.0658495426177979\n",
      "filter_compounds_formula\n",
      "{'Li': 1.0}\n",
      "8 3\n",
      "0 -1.90511248 -1.90511248 1\n",
      "1 -1.90599863 -1.90599863 2\n",
      "2 -1.9072095766666666 -1.9072095766666666 3\n",
      "3 -1.8908500275 -1.8908500275 8\n",
      "4 -1.90605095 -1.90605095 4\n",
      "5 -1.8953740433333335 -1.8953740433333335 3\n",
      "6 -1.63261591 -1.63261591 4\n",
      "7 -1.90797265 -1.90797265 1\n",
      "4\n",
      "End filter compounds formula---- \n",
      "\n",
      " End download and filter formula---- \n",
      "\n",
      "download_and_filter_formula\n",
      "{'Li': 2.0, 'O': 2.0}\n",
      "Elapsed time for downloading:  0.589503288269043\n",
      "filter_compounds_formula\n",
      "{'Li': 2.0, 'O': 2.0}\n",
      "32 1\n",
      "0 -4.8387792975 -4.8387792975 8\n",
      "1 -4.6950747278125 -4.6950747278125 32\n",
      "2 -4.4269572275 -4.4269572275 4\n",
      "3 -4.44556722 -4.44556722 4\n",
      "1\n",
      "End filter compounds formula---- \n",
      "\n",
      "{'La': 2.0, 'O': 3.0}\n",
      "Elapsed time for downloading:  1.0852997303009033\n",
      "filter_compounds_formula\n",
      "{'La': 2.0, 'O': 3.0}\n",
      "15 0\n",
      "0 -8.375070233333334 -8.375070233333334 15\n",
      "1 -7.5044013640000005 -7.5044013640000005 5\n",
      "2 -8.170990514 -8.170990514 5\n",
      "0\n",
      "End filter compounds formula---- \n",
      "\n",
      "{'Li': 6, 'O': 7, 'Zr': 2}\n",
      "Elapsed time for downloading:  0.5885660648345947\n",
      "filter_compounds_formula\n",
      "{'Li': 6.0, 'O': 7.0, 'Zr': 2.0}\n",
      "30 0\n",
      "0 -6.756484832666667 -6.756484832666667 30\n",
      "0\n",
      "End filter compounds formula---- \n",
      "\n",
      "{'Li': 1}\n",
      "Elapsed time for downloading:  0.5611693859100342\n",
      "filter_compounds_formula\n",
      "{'Li': 1.0}\n",
      "8 3\n",
      "0 -1.90511248 -1.90511248 1\n",
      "1 -1.90599863 -1.90599863 2\n",
      "2 -1.9072095766666666 -1.9072095766666666 3\n",
      "3 -1.8908500275 -1.8908500275 8\n",
      "4 -1.90605095 -1.90605095 4\n",
      "5 -1.8953740433333335 -1.8953740433333335 3\n",
      "6 -1.63261591 -1.63261591 4\n",
      "7 -1.90797265 -1.90797265 1\n",
      "4\n",
      "End filter compounds formula---- \n",
      "\n",
      " End download and filter formula---- \n",
      "\n",
      "Compute_potential\n",
      "Expand Stoichiometry\n",
      "Reagent elements:  ['Li', 'La', 'Zr', 'O']\n",
      "Reagent: \n",
      "[7.0, 3.0, 2.0, 12.0]\n",
      "The matrix of product coefficients ( columnwise ):\n",
      "[[2. 0. 6. 1.]\n",
      " [0. 2. 0. 0.]\n",
      " [0. 0. 2. 0.]\n",
      " [2. 3. 7. 0.]]\n",
      "System solved check:  0.0\n",
      "[0.25 1.5  1.   0.5 ]\n",
      "End expand stoichiometry---- \n",
      "\n",
      "4.0 -18.78029891125\n",
      "5.0 -41.87535116666667\n",
      "15.0 -101.34727249\n",
      "1.0 -1.90605095\n",
      "3.065353324375004\n",
      "End compute potential---- \n",
      "\n",
      "('Oxidation', 3.065353324375004, 4.176001068761055, array([0.25, 1.5 , 1.  , 0.5 ]))\n",
      "Compute_potential\n",
      "Expand Stoichiometry\n",
      "Reagent elements:  ['Li', 'La', 'Zr', 'O']\n",
      "Reagent: \n",
      "[7.0, 3.0, 2.0, 12.0]\n",
      "The matrix of product coefficients ( columnwise ):\n",
      "[[2. 0. 6. 1.]\n",
      " [0. 1. 0. 0.]\n",
      " [0. 0. 2. 0.]\n",
      " [1. 0. 7. 0.]]\n",
      "System solved check:  0.0\n",
      "[ 5.  3.  1. -9.]\n",
      "End expand stoichiometry---- \n",
      "\n",
      "3.0 -13.78075320117647\n",
      "1.0 -4.9265915325\n",
      "15.0 -101.34727249\n",
      "1.0 -1.90605095\n",
      "-0.3849690624019644\n",
      "End compute potential---- \n",
      "\n",
      "('Reduction', -0.3849690624019644, 0.23541264049542193, array([ 5.,  3.,  1., -9.]))\n"
     ]
    }
   ],
   "source": [
    "reagent=download_and_filter_formula([{'Li': 7.0, 'La': 3.0, 'Zr': 2.0, 'O': 12.0}],mpr, verbosity=True, icsd=False)\n",
    "\n",
    "products_red=download_and_filter_formula([ {'Li': 2.0, 'O': 1.0},{'La': 1.0},\n",
    "                                  {'Li': 6, 'O': 7, 'Zr': 2},{'Li': 1}],mpr,verbosity=True, icsd=False)\n",
    "\n",
    "products_ox=download_and_filter_formula([ {'Li': 2.0, 'O': 2.0},{'La': 2.0, 'O': 3.0},\n",
    "                                 {'Li': 6, 'O': 7, 'Zr': 2},{'Li': 1}],mpr,verbosity=True, icsd=False)\n",
    "\n",
    "print(compute_potential(reagent, products_ox, verbosity=True))\n",
    "print(compute_potential(reagent, products_red, verbosity = True))"
   ]
  }
 ],
 "metadata": {
  "kernelspec": {
   "display_name": "Python 3",
   "language": "python",
   "name": "python3"
  },
  "language_info": {
   "codemirror_mode": {
    "name": "ipython",
    "version": 3
   },
   "file_extension": ".py",
   "mimetype": "text/x-python",
   "name": "python",
   "nbconvert_exporter": "python",
   "pygments_lexer": "ipython3",
   "version": "3.6.9"
  }
 },
 "nbformat": 4,
 "nbformat_minor": 4
}
